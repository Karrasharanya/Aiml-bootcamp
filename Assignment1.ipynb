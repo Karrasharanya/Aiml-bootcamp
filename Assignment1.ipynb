{
  "nbformat": 4,
  "nbformat_minor": 0,
  "metadata": {
    "colab": {
      "name": "Assignment1.ipynb",
      "provenance": [],
      "collapsed_sections": [],
      "authorship_tag": "ABX9TyPHv2R1BZhyuTb2htvhySKk",
      "include_colab_link": true
    },
    "kernelspec": {
      "name": "python3",
      "display_name": "Python 3"
    },
    "language_info": {
      "name": "python"
    }
  },
  "cells": [
    {
      "cell_type": "markdown",
      "metadata": {
        "id": "view-in-github",
        "colab_type": "text"
      },
      "source": [
        "<a href=\"https://colab.research.google.com/github/Karrasharanya/Aiml-bootcamp/blob/main/Assignment1.ipynb\" target=\"_parent\"><img src=\"https://colab.research.google.com/assets/colab-badge.svg\" alt=\"Open In Colab\"/></a>"
      ]
    },
    {
      "cell_type": "markdown",
      "source": [
        "1. Implement the methods of String with examples.\n"
      ],
      "metadata": {
        "id": "QgdgC_p53x0O"
      }
    },
    {
      "cell_type": "code",
      "source": [
        "str=\"  Methods Of Strings  \"\n",
        "print(str.upper())\n",
        "print(str.lower())\n",
        "print(str.swapcase())\n",
        "print(str.title())\n",
        "print(str.capitalize())\n",
        "str1=\"   My name is Ram  \"\n",
        "print(str1.strip())  \n",
        "print(str1.lstrip())\n",
        "print(str1.rstrip())"
      ],
      "metadata": {
        "colab": {
          "base_uri": "https://localhost:8080/"
        },
        "id": "aXPKtO0S33EF",
        "outputId": "87bd56e9-f651-477b-fee0-97c6660cde67"
      },
      "execution_count": null,
      "outputs": [
        {
          "output_type": "stream",
          "name": "stdout",
          "text": [
            "  METHODS OF STRINGS  \n",
            "  methods of strings  \n",
            "  mETHODS oF sTRINGS  \n",
            "  Methods Of Strings  \n",
            "  methods of strings  \n",
            "My name is Ram\n",
            "My name is Ram  \n",
            "   My name is Ram\n"
          ]
        }
      ]
    },
    {
      "cell_type": "markdown",
      "source": [
        ""
      ],
      "metadata": {
        "id": "s0i3e7IQ30Pl"
      }
    },
    {
      "cell_type": "markdown",
      "source": [
        "2. Implement the methods of List with examples.\n"
      ],
      "metadata": {
        "id": "s2IGlfNV7Qcn"
      }
    },
    {
      "cell_type": "code",
      "source": [
        "li=[100,200,300,400]\n",
        "li.append(500)\n",
        "print(li)"
      ],
      "metadata": {
        "colab": {
          "base_uri": "https://localhost:8080/"
        },
        "id": "8wixrnET7fCU",
        "outputId": "db5582ea-9d0b-49ad-e245-4a450bdb0f17"
      },
      "execution_count": null,
      "outputs": [
        {
          "output_type": "stream",
          "name": "stdout",
          "text": [
            "[100, 200, 300, 400, 500]\n"
          ]
        }
      ]
    },
    {
      "cell_type": "code",
      "source": [
        "li.extend([600,700,])\n",
        "print(li)"
      ],
      "metadata": {
        "colab": {
          "base_uri": "https://localhost:8080/"
        },
        "id": "rLvZMq3g309J",
        "outputId": "886f4db0-656f-4c04-d4fb-6ec4868b52ad"
      },
      "execution_count": null,
      "outputs": [
        {
          "output_type": "stream",
          "name": "stdout",
          "text": [
            "[100, 200, 300, 400, 500, 600, 700]\n"
          ]
        }
      ]
    },
    {
      "cell_type": "code",
      "source": [
        "li.insert(0,800)\n",
        "print(li)"
      ],
      "metadata": {
        "colab": {
          "base_uri": "https://localhost:8080/"
        },
        "id": "5Y-eAcpb-3uL",
        "outputId": "3b029e42-3d67-40d2-9e9f-f1b0d68a0fa5"
      },
      "execution_count": null,
      "outputs": [
        {
          "output_type": "stream",
          "name": "stdout",
          "text": [
            "[800, 100, 200, 300, 400, 500, 600, 700]\n"
          ]
        }
      ]
    },
    {
      "cell_type": "code",
      "source": [
        "del li[0]\n",
        "print(li)"
      ],
      "metadata": {
        "colab": {
          "base_uri": "https://localhost:8080/"
        },
        "id": "8P96RqW2Bla7",
        "outputId": "39247db7-cd53-4ad7-f2d9-468848337da2"
      },
      "execution_count": null,
      "outputs": [
        {
          "output_type": "stream",
          "name": "stdout",
          "text": [
            "[100, 200, 300, 400, 500, 600, 700]\n"
          ]
        }
      ]
    },
    {
      "cell_type": "code",
      "source": [
        "del li[1:2]\n",
        "print(li)"
      ],
      "metadata": {
        "colab": {
          "base_uri": "https://localhost:8080/"
        },
        "id": "TeT9Wiv9BrgQ",
        "outputId": "c8fc22e2-8c17-4c6f-f00f-a8bd9877c8d2"
      },
      "execution_count": null,
      "outputs": [
        {
          "output_type": "stream",
          "name": "stdout",
          "text": [
            "[100, 300, 400, 500, 600, 700]\n"
          ]
        }
      ]
    },
    {
      "cell_type": "code",
      "source": [
        "li.remove(400)\n",
        "print(li)"
      ],
      "metadata": {
        "colab": {
          "base_uri": "https://localhost:8080/"
        },
        "id": "kkH9I9aXCOim",
        "outputId": "18749a78-8c97-47ea-acff-6b57e9f7aa0e"
      },
      "execution_count": null,
      "outputs": [
        {
          "output_type": "stream",
          "name": "stdout",
          "text": [
            "[100, 300, 500, 600, 700]\n"
          ]
        }
      ]
    },
    {
      "cell_type": "code",
      "source": [
        "li.pop(0)\n",
        "print(li)"
      ],
      "metadata": {
        "colab": {
          "base_uri": "https://localhost:8080/"
        },
        "id": "jA2WFd9dCkNi",
        "outputId": "4a3d62c8-9ab7-4ed3-88da-2a804d6cd349"
      },
      "execution_count": null,
      "outputs": [
        {
          "output_type": "stream",
          "name": "stdout",
          "text": [
            "[300, 500, 600, 700]\n"
          ]
        }
      ]
    },
    {
      "cell_type": "code",
      "source": [
        "print(li.count(500))"
      ],
      "metadata": {
        "colab": {
          "base_uri": "https://localhost:8080/"
        },
        "id": "rLb5QYbsCvfX",
        "outputId": "5a8d0f4e-9ce1-44b6-fff9-5eda335b8f13"
      },
      "execution_count": null,
      "outputs": [
        {
          "output_type": "stream",
          "name": "stdout",
          "text": [
            "1\n"
          ]
        }
      ]
    },
    {
      "cell_type": "code",
      "source": [
        "print(len(li))"
      ],
      "metadata": {
        "colab": {
          "base_uri": "https://localhost:8080/"
        },
        "id": "ZTTXM6AXDJED",
        "outputId": "815efcb1-77c1-4189-e1d2-fb43fced39c4"
      },
      "execution_count": null,
      "outputs": [
        {
          "output_type": "stream",
          "name": "stdout",
          "text": [
            "4\n"
          ]
        }
      ]
    },
    {
      "cell_type": "code",
      "source": [
        "print(li[::-1])"
      ],
      "metadata": {
        "colab": {
          "base_uri": "https://localhost:8080/"
        },
        "id": "y6Gv-pbpEbsM",
        "outputId": "abbe4967-0200-4400-d0e8-38293138ee59"
      },
      "execution_count": null,
      "outputs": [
        {
          "output_type": "stream",
          "name": "stdout",
          "text": [
            "[700, 600, 500, 300]\n"
          ]
        }
      ]
    },
    {
      "cell_type": "code",
      "source": [
        "li.sort()\n",
        "print(li)"
      ],
      "metadata": {
        "colab": {
          "base_uri": "https://localhost:8080/"
        },
        "id": "_ATJnNxDEuDA",
        "outputId": "5956a034-1026-43f7-8c98-4d3d0c29814d"
      },
      "execution_count": null,
      "outputs": [
        {
          "output_type": "stream",
          "name": "stdout",
          "text": [
            "[300, 500, 600, 700]\n"
          ]
        }
      ]
    },
    {
      "cell_type": "code",
      "source": [
        "li.reverse()\n",
        "print(li)\n"
      ],
      "metadata": {
        "colab": {
          "base_uri": "https://localhost:8080/"
        },
        "id": "3bXDVfYbE2wf",
        "outputId": "904269ab-7538-4289-d76a-83934a272a02"
      },
      "execution_count": null,
      "outputs": [
        {
          "output_type": "stream",
          "name": "stdout",
          "text": [
            "[700, 600, 500, 300]\n"
          ]
        }
      ]
    },
    {
      "cell_type": "code",
      "source": [
        "li.clear()\n",
        "print(\"The elements that are in the list are:\",li)"
      ],
      "metadata": {
        "colab": {
          "base_uri": "https://localhost:8080/"
        },
        "id": "T1UKlCzqFNIf",
        "outputId": "e6b26e30-e978-4297-b41d-e2aab03d28ba"
      },
      "execution_count": null,
      "outputs": [
        {
          "output_type": "stream",
          "name": "stdout",
          "text": [
            "The elements that are in the list are: []\n"
          ]
        }
      ]
    },
    {
      "cell_type": "markdown",
      "source": [
        "3. Implement the methods of Tuple with examples.\n"
      ],
      "metadata": {
        "id": "wg3KA43MIxnn"
      }
    },
    {
      "cell_type": "code",
      "source": [
        "tuple=(25,25,35,67,89,90,)\n",
        "print(tuple.count(25))\n",
        "print(tuple.index(25))\n",
        "print(max(tuple))\n",
        "print(min(tuple))\n",
        "print(len(tuple))"
      ],
      "metadata": {
        "colab": {
          "base_uri": "https://localhost:8080/"
        },
        "id": "0caJ-rbXI1cK",
        "outputId": "d03bb4c0-ebd6-46c0-a6f7-81516b175086"
      },
      "execution_count": null,
      "outputs": [
        {
          "output_type": "stream",
          "name": "stdout",
          "text": [
            "2\n",
            "0\n",
            "90\n",
            "25\n",
            "6\n"
          ]
        }
      ]
    },
    {
      "cell_type": "markdown",
      "source": [
        "4. Implement the methods of Dictionary with examples.\n"
      ],
      "metadata": {
        "id": "dwRtNyYRMHBf"
      }
    },
    {
      "cell_type": "code",
      "source": [
        "dictionary={'name':'Sharanya','department':'CSE','Empid':'1234'}#static declaration\n",
        "print(dictionary['name'])\n",
        "print(dictionary.keys())\n",
        "print(dictionary.values())\n",
        "print(dictionary.get('name'))"
      ],
      "metadata": {
        "colab": {
          "base_uri": "https://localhost:8080/"
        },
        "id": "36RsZqKLMIA1",
        "outputId": "b5ae501f-2d2c-4a7e-a446-cf5386eb0e19"
      },
      "execution_count": null,
      "outputs": [
        {
          "output_type": "stream",
          "name": "stdout",
          "text": [
            "Sharanya\n",
            "dict_keys(['name', 'department', 'Empid'])\n",
            "dict_values(['Sharanya', 'CSE', '1234'])\n",
            "Sharanya\n"
          ]
        }
      ]
    },
    {
      "cell_type": "markdown",
      "source": [
        "5. Implement the methods of Set with examples.\n"
      ],
      "metadata": {
        "id": "aclwrn7lPvis"
      }
    },
    {
      "cell_type": "code",
      "source": [
        "set={10,20,50}\n",
        "print(set)"
      ],
      "metadata": {
        "colab": {
          "base_uri": "https://localhost:8080/"
        },
        "id": "jjI8KS2qPwtN",
        "outputId": "bbca3dc5-fef5-4a1a-9834-1e90c6f762fc"
      },
      "execution_count": null,
      "outputs": [
        {
          "output_type": "stream",
          "name": "stdout",
          "text": [
            "{10, 20, 50}\n"
          ]
        }
      ]
    },
    {
      "cell_type": "code",
      "source": [
        "set.add(60)\n",
        "print(set)"
      ],
      "metadata": {
        "colab": {
          "base_uri": "https://localhost:8080/"
        },
        "id": "sjqBVcDbSjLs",
        "outputId": "87d48a14-74eb-4da3-90af-95000d7c07a6"
      },
      "execution_count": null,
      "outputs": [
        {
          "output_type": "stream",
          "name": "stdout",
          "text": [
            "{10, 20, 50, 60}\n"
          ]
        }
      ]
    },
    {
      "cell_type": "code",
      "source": [
        "set.update([100,90])\n",
        "print(set)"
      ],
      "metadata": {
        "colab": {
          "base_uri": "https://localhost:8080/"
        },
        "id": "7Q9skWPCSsBc",
        "outputId": "eb666f1b-a1c7-4024-d826-37c19b3c018c"
      },
      "execution_count": null,
      "outputs": [
        {
          "output_type": "stream",
          "name": "stdout",
          "text": [
            "{100, 10, 50, 20, 90, 60}\n"
          ]
        }
      ]
    },
    {
      "cell_type": "code",
      "source": [
        "set.discard(100)\n",
        "print(set)"
      ],
      "metadata": {
        "colab": {
          "base_uri": "https://localhost:8080/"
        },
        "id": "6OF8Vn3lTncl",
        "outputId": "4ece6361-f913-434e-a6df-12549fb7f42d"
      },
      "execution_count": null,
      "outputs": [
        {
          "output_type": "stream",
          "name": "stdout",
          "text": [
            "{10, 50, 20, 90, 60}\n"
          ]
        }
      ]
    },
    {
      "cell_type": "code",
      "source": [
        "set.remove(60)\n",
        "print(set)"
      ],
      "metadata": {
        "colab": {
          "base_uri": "https://localhost:8080/"
        },
        "id": "7ktlN1gyT3KY",
        "outputId": "a261cd13-9f79-4942-f2d9-f13fbe27ad32"
      },
      "execution_count": null,
      "outputs": [
        {
          "output_type": "stream",
          "name": "stdout",
          "text": [
            "{10, 50, 20, 90}\n"
          ]
        }
      ]
    },
    {
      "cell_type": "code",
      "source": [
        "#set operators\n",
        "#setunion\n",
        "set1={30,40,20,90}\n",
        "print(set|set1)\n",
        "print(set.union(set1))"
      ],
      "metadata": {
        "colab": {
          "base_uri": "https://localhost:8080/"
        },
        "id": "gnpgDy-VUAEH",
        "outputId": "e37102a3-311f-4c53-a6bb-a7765baf6565"
      },
      "execution_count": null,
      "outputs": [
        {
          "output_type": "stream",
          "name": "stdout",
          "text": [
            "{40, 10, 50, 20, 90, 30}\n",
            "{40, 10, 50, 20, 90, 30}\n"
          ]
        }
      ]
    },
    {
      "cell_type": "code",
      "source": [
        "print(set1.union(set))"
      ],
      "metadata": {
        "colab": {
          "base_uri": "https://localhost:8080/"
        },
        "id": "QLbVOAOuVE0J",
        "outputId": "cbfc68f7-1e62-4a14-8fc8-cba52c9bc3bf"
      },
      "execution_count": null,
      "outputs": [
        {
          "output_type": "stream",
          "name": "stdout",
          "text": [
            "{40, 10, 50, 20, 90, 30}\n"
          ]
        }
      ]
    },
    {
      "cell_type": "code",
      "source": [
        "#setintersection\n",
        "print(set&set1)\n",
        "print(set.intersection(set1))\n",
        "print(set1.intersection(set))"
      ],
      "metadata": {
        "colab": {
          "base_uri": "https://localhost:8080/"
        },
        "id": "Q0sXdb4TVPnG",
        "outputId": "286aaa52-69ce-4781-db24-54e7b8315874"
      },
      "execution_count": null,
      "outputs": [
        {
          "output_type": "stream",
          "name": "stdout",
          "text": [
            "{90, 20}\n",
            "{90, 20}\n",
            "{90, 20}\n"
          ]
        }
      ]
    },
    {
      "cell_type": "code",
      "source": [
        "#setdifference\n",
        "print(set-set1)\n",
        "print(set.difference(set1))\n",
        "print(set1-set)\n",
        "print(set1.difference(set))"
      ],
      "metadata": {
        "colab": {
          "base_uri": "https://localhost:8080/"
        },
        "id": "3yXki9y3VxyW",
        "outputId": "39bb55b6-91cb-4ed5-b5d0-0a07f36634f8"
      },
      "execution_count": null,
      "outputs": [
        {
          "output_type": "stream",
          "name": "stdout",
          "text": [
            "{10, 50}\n",
            "{10, 50}\n",
            "{40, 30}\n",
            "{40, 30}\n"
          ]
        }
      ]
    },
    {
      "cell_type": "markdown",
      "source": [
        "6.Write a python program to convert Decimal to Binary, Octal and Hexadecimal with \n",
        "direct method."
      ],
      "metadata": {
        "id": "1z4KM9CAWliM"
      }
    },
    {
      "cell_type": "code",
      "source": [
        "dec = int(input(\"Enter an integer: \"))\n",
        "print(\"The decimal value of\", dec, \"is\")\n",
        "print(bin(dec), \" binary\")\n",
        "print(oct(dec), \" octal\")\n",
        "print(hex(dec), \" hexadecimal\")"
      ],
      "metadata": {
        "colab": {
          "base_uri": "https://localhost:8080/"
        },
        "id": "BqfM9yGnWon7",
        "outputId": "4943db4a-eaeb-42a5-b55e-1f65c001f796"
      },
      "execution_count": null,
      "outputs": [
        {
          "output_type": "stream",
          "name": "stdout",
          "text": [
            "Enter an integer: 505\n",
            "The decimal value of 505 is\n",
            "0b111111001  binary\n",
            "0o771  octal\n",
            "0x1f9  hexadecimal\n"
          ]
        }
      ]
    },
    {
      "cell_type": "markdown",
      "source": [
        "7. Implement Arithmetic operators with examples.\n"
      ],
      "metadata": {
        "id": "2Yj_jAJNYuxQ"
      }
    },
    {
      "cell_type": "code",
      "source": [
        "#arithmetic operators\n",
        "cp = int(input(\"Enter cp: \"))\n",
        "sp = int(input(\"Enter sp: \"))\n",
        "print(cp+sp)\n",
        "print(cp-sp)\n",
        "print(cp*sp)\n",
        "print(cp/sp)\n",
        "print(cp//sp)\n",
        "print(cp%sp)\n",
        "print(cp**sp)"
      ],
      "metadata": {
        "colab": {
          "base_uri": "https://localhost:8080/"
        },
        "id": "Vcczsbard8iD",
        "outputId": "cca92156-24b8-4404-ebf6-288e7fdbf310"
      },
      "execution_count": null,
      "outputs": [
        {
          "output_type": "stream",
          "name": "stdout",
          "text": [
            "Enter cp: 5\n",
            "Enter sp: 4\n",
            "9\n",
            "1\n",
            "20\n",
            "1.25\n",
            "1\n",
            "1\n",
            "625\n"
          ]
        }
      ]
    },
    {
      "cell_type": "markdown",
      "source": [
        "8.Implement Assignment operators with examples.\n"
      ],
      "metadata": {
        "id": "f1t4V7ZnfJGl"
      }
    },
    {
      "cell_type": "code",
      "source": [
        "#Assignment operators\n",
        "cp = int(input(\"Enter cp: \"))\n",
        "sp= int(input(\"Enter sp: \"))\n",
        "total=cp+sp\n",
        "print(total)\n",
        "total+=cp\n",
        "print(total)\n",
        "total-=cp\n",
        "print(total)\n",
        "total*=cp\n",
        "print(total)\n",
        "total/=cp\n",
        "print(total)\n",
        "total%=cp\n",
        "print(total)\n",
        "total**=cp\n",
        "print(total)"
      ],
      "metadata": {
        "colab": {
          "base_uri": "https://localhost:8080/"
        },
        "id": "GcIZS9sQfM9L",
        "outputId": "26e593d5-2084-4638-a2f4-724a35cf2819"
      },
      "execution_count": null,
      "outputs": [
        {
          "output_type": "stream",
          "name": "stdout",
          "text": [
            "Enter cp: 100\n",
            "Enter sp: 105\n",
            "205\n",
            "305\n",
            "205\n",
            "20500\n",
            "205.0\n",
            "5.0\n",
            "7.888609052210118e+69\n"
          ]
        }
      ]
    },
    {
      "cell_type": "markdown",
      "source": [
        "9. Implement Comparison operators with examples.\n"
      ],
      "metadata": {
        "id": "ppGIzksSgKa_"
      }
    },
    {
      "cell_type": "code",
      "source": [
        "#comparision operators\n",
        "costprice = int(input(\"Enter costprice: \"))\n",
        "sellingprice = int(input(\"Enter sellingprice: \"))\n",
        "print(\"comparision\\n\")\n",
        "print(costprice==sellingprice)\n",
        "print(costprice!=sellingprice)\n",
        "print(costprice>sellingprice)\n",
        "print(costprice<sellingprice)\n",
        "print(costprice>=sellingprice)\n",
        "print(costprice<=sellingprice)"
      ],
      "metadata": {
        "colab": {
          "base_uri": "https://localhost:8080/"
        },
        "id": "fLQ7rw7rgM6Z",
        "outputId": "aa3203d9-be76-4285-aab3-66cb3d491fb8"
      },
      "execution_count": null,
      "outputs": [
        {
          "output_type": "stream",
          "name": "stdout",
          "text": [
            "Enter costprice: 100\n",
            "Enter sellingprice: 200\n",
            "comparision\n",
            "\n",
            "False\n",
            "True\n",
            "False\n",
            "True\n",
            "False\n",
            "True\n"
          ]
        }
      ]
    },
    {
      "cell_type": "markdown",
      "source": [
        "10.Implement Logical operators with examples."
      ],
      "metadata": {
        "id": "iSkfk88PicuN"
      }
    },
    {
      "cell_type": "code",
      "source": [
        "#logical operators\n",
        "print(\"logical\\n\")\n",
        "subject1=True\n",
        "subject2=False\n",
        "print(\"subject1 and subject2 is\",subject1 and subject2)\n",
        "print(\"subject1 or subject2 is\",subject1 or subject2)\n",
        "print(\"subject1 not is\",not subject1)"
      ],
      "metadata": {
        "colab": {
          "base_uri": "https://localhost:8080/"
        },
        "id": "dA1a-qdN6MBn",
        "outputId": "c6227a98-eb15-4863-f5ce-9761a6c38abc"
      },
      "execution_count": null,
      "outputs": [
        {
          "output_type": "stream",
          "name": "stdout",
          "text": [
            "logical\n",
            "\n",
            "subject1 and subject2 is False\n",
            "subject1 or subject2 is True\n",
            "subject1 not is False\n"
          ]
        }
      ]
    },
    {
      "cell_type": "markdown",
      "source": [
        "11. Implement Bitwise operators with examples.\n"
      ],
      "metadata": {
        "id": "tJvreK069ffk"
      }
    },
    {
      "cell_type": "code",
      "source": [
        "#bitwise operators\n",
        "costprice=15#11111\n",
        "sellingprice=8#1000\n",
        "print(\"bitwise\\n\") \n",
        "print(costprice&sellingprice)\n",
        "print(costprice^sellingprice)\n",
        "print(costprice|sellingprice)\n",
        "print(~costprice)\n",
        "print(costprice>>2)\n",
        "print(costprice<<2)"
      ],
      "metadata": {
        "colab": {
          "base_uri": "https://localhost:8080/"
        },
        "id": "ZxjgBF-09lRi",
        "outputId": "b8a0f70b-7afb-4160-f5b6-435b6fdab0a3"
      },
      "execution_count": null,
      "outputs": [
        {
          "output_type": "stream",
          "name": "stdout",
          "text": [
            "bitwise\n",
            "\n",
            "8\n",
            "7\n",
            "15\n",
            "-16\n",
            "3\n",
            "60\n"
          ]
        }
      ]
    },
    {
      "cell_type": "markdown",
      "source": [
        "12. Implement Membership operators with examples.\n"
      ],
      "metadata": {
        "id": "1aHWPDjKA8wa"
      }
    },
    {
      "cell_type": "code",
      "source": [
        "#membership operators\n",
        "subject=\"Aiml boot camp\"\n",
        "marks={6:'b',7:'y'}\n",
        "print('A' in subject)\n",
        "print(1 in marks)\n",
        "print('a'in marks)"
      ],
      "metadata": {
        "colab": {
          "base_uri": "https://localhost:8080/"
        },
        "id": "nQS2iOKsA_HX",
        "outputId": "a99a07cc-0c5f-4db7-9f64-eb46a34a46dc"
      },
      "execution_count": null,
      "outputs": [
        {
          "output_type": "stream",
          "name": "stdout",
          "text": [
            "True\n",
            "False\n",
            "False\n"
          ]
        }
      ]
    },
    {
      "cell_type": "markdown",
      "source": [
        "13. Implement Identity operators with examples\n"
      ],
      "metadata": {
        "id": "ndahVAo7F-yy"
      }
    },
    {
      "cell_type": "code",
      "source": [
        "#Identity operators\n",
        "sub1=33\n",
        "M1=33\n",
        "sub2=\"CSE\"\n",
        "M2=\"CSE\"\n",
        "sub3=[100,200,300]\n",
        "M3=[100,200,300]\n",
        "print(sub1 is not M1)\n",
        "print(sub1 is  M1)\n",
        "print(sub2 is M2)\n",
        "print(sub2 is not M2)\n",
        "print(sub3 is M3)\n",
        "print(sub3 is not M3)"
      ],
      "metadata": {
        "colab": {
          "base_uri": "https://localhost:8080/"
        },
        "id": "CjBPokgdF_3h",
        "outputId": "b915a926-c944-46e1-f049-ee4bfc7fba32"
      },
      "execution_count": null,
      "outputs": [
        {
          "output_type": "stream",
          "name": "stdout",
          "text": [
            "False\n",
            "True\n",
            "True\n",
            "False\n",
            "False\n",
            "True\n"
          ]
        }
      ]
    },
    {
      "cell_type": "markdown",
      "source": [
        "14. Demonstrate Negative indexing for List and apply slicing."
      ],
      "metadata": {
        "id": "L2wisyY_Jpaf"
      }
    },
    {
      "cell_type": "code",
      "source": [
        "#negative indexing\n",
        "studentdetails=['name','age','address','mail','phno']\n",
        "print(studentdetails[-1])\n",
        "print(studentdetails[-2])\n",
        "print(studentdetails[-3])\n",
        "print(studentdetails[-4])\n",
        "print(studentdetails[-5])"
      ],
      "metadata": {
        "colab": {
          "base_uri": "https://localhost:8080/"
        },
        "id": "fjchPESoJqj_",
        "outputId": "b52e1c8e-450f-48a9-e43c-7b0509ee8065"
      },
      "execution_count": null,
      "outputs": [
        {
          "output_type": "stream",
          "name": "stdout",
          "text": [
            "phno\n",
            "mail\n",
            "address\n",
            "age\n",
            "name\n"
          ]
        }
      ]
    },
    {
      "cell_type": "code",
      "source": [
        "#slicing\n",
        "studentdetails=['name','age','address','mail','phno']\n",
        "print(studentdetails[0:5])\n",
        "print(studentdetails[0:5:2])\n",
        "print(studentdetails[0:2])\n",
        "print(studentdetails[::-1])#reverse of a string\n",
        "print(studentdetails[:])\n",
        "print(studentdetails[1:])\n",
        "print(studentdetails[-3:-2])"
      ],
      "metadata": {
        "colab": {
          "base_uri": "https://localhost:8080/"
        },
        "id": "THgVPZ8aLXVt",
        "outputId": "1e9f6aa2-774b-45cd-dabe-93f2e24d63e0"
      },
      "execution_count": null,
      "outputs": [
        {
          "output_type": "stream",
          "name": "stdout",
          "text": [
            "['name', 'age', 'address', 'mail', 'phno']\n",
            "['name', 'address', 'phno']\n",
            "['name', 'age']\n",
            "['phno', 'mail', 'address', 'age', 'name']\n",
            "['name', 'age', 'address', 'mail', 'phno']\n",
            "['age', 'address', 'mail', 'phno']\n",
            "['address']\n"
          ]
        }
      ]
    },
    {
      "cell_type": "markdown",
      "source": [
        "15.Predict the output for the given code snippet and justify the result."
      ],
      "metadata": {
        "id": "cj7J6ZLfR-sr"
      }
    },
    {
      "cell_type": "code",
      "source": [
        "print('A series of characters designated as one object known as a string'[::-1][4::3])#Given print statement [::-1] reverse the whole string\n",
        "# and [4::3] reads the string from index 4 and indexjump with value 3\n",
        "print(\"----------\")\n",
        "print('Welcome to python training program'[3:10][::-1])\n",
        "#[3:10] slicing operator starts from 3rd index and stops at 10th index and the it will reverse the string."
      ],
      "metadata": {
        "colab": {
          "base_uri": "https://localhost:8080/"
        },
        "id": "EMauaEcASCTZ",
        "outputId": "7320b6de-c05b-4290-fe83-3d943fdf24bb"
      },
      "execution_count": null,
      "outputs": [
        {
          "output_type": "stream",
          "name": "stdout",
          "text": [
            "taawkcbe  tgestrcoeeA\n",
            "----------\n",
            "ot emoc\n"
          ]
        }
      ]
    },
    {
      "cell_type": "markdown",
      "source": [
        "16. Write a python code to get desired output"
      ],
      "metadata": {
        "id": "CNIkdnLfeXzY"
      }
    },
    {
      "cell_type": "code",
      "source": [
        "#input string p_phrase=\"was it a car or a cat I saw\"\n",
        "p_phrase=\"was it a car or a cat I saw\"\n",
        "str=p_phrase.upper()\n",
        "print(str[:3:]+\" \"+str[4:5:]+\" \"+str[5:6:]+str[7:8:]+str[9:10:]+\" \"+str[10:11:]+\" \"+str[11:12:]+str[13:14]+\" \"+str[14:15]+str[16:17:]+str[18:19:]+\" \"+str[19:20:]+\" \"+str[20:21:]+str[22:23:]+\" \"+str[24::])"
      ],
      "metadata": {
        "colab": {
          "base_uri": "https://localhost:8080/"
        },
        "id": "Dn_b_FWeeZXm",
        "outputId": "06a5b436-c066-45c5-8ad3-b90bbc58b544"
      },
      "execution_count": 86,
      "outputs": [
        {
          "output_type": "stream",
          "name": "stdout",
          "text": [
            "WAS I TAC A RO RAC A TI SAW\n"
          ]
        }
      ]
    },
    {
      "cell_type": "markdown",
      "source": [
        "17. You are required to generate a word similar to ZOO, X and Y that denote the number \n",
        "of Zs and Os respectively. The generated word similar to ZOO where Y= 2 * X. \n",
        " Input X= 2 Output ZZOOOO \n",
        " Input X= 5 Output ZZZZZOOOOOOOOOO\n"
      ],
      "metadata": {
        "id": "046QOWHcVnAx"
      }
    },
    {
      "cell_type": "code",
      "source": [
        "x=int(input(\"length of x\"))\n",
        "a=('Z'*x)\n",
        "y=len(a)\n",
        "z=2*y\n",
        "y=('O'*z)\n",
        "print(a+y)"
      ],
      "metadata": {
        "colab": {
          "base_uri": "https://localhost:8080/"
        },
        "id": "UkpBxkSyVpZf",
        "outputId": "c6bd662a-63f8-4903-a7c8-248936f87096"
      },
      "execution_count": null,
      "outputs": [
        {
          "output_type": "stream",
          "name": "stdout",
          "text": [
            "length of x2\n",
            "ZZOOOO\n"
          ]
        }
      ]
    }
  ]
}