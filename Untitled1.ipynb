{
  "nbformat": 4,
  "nbformat_minor": 0,
  "metadata": {
    "colab": {
      "name": "Untitled1.ipynb",
      "provenance": [],
      "authorship_tag": "ABX9TyPyMKej7jkkd2/mGOLSKmgD",
      "include_colab_link": true
    },
    "kernelspec": {
      "name": "python3",
      "display_name": "Python 3"
    },
    "language_info": {
      "name": "python"
    }
  },
  "cells": [
    {
      "cell_type": "markdown",
      "metadata": {
        "id": "view-in-github",
        "colab_type": "text"
      },
      "source": [
        "<a href=\"https://colab.research.google.com/github/Karrasharanya/Aiml-bootcamp/blob/main/Untitled1.ipynb\" target=\"_parent\"><img src=\"https://colab.research.google.com/assets/colab-badge.svg\" alt=\"Open In Colab\"/></a>"
      ]
    },
    {
      "cell_type": "code",
      "source": [
        "travellerneed=[\"speed\",\"cost\",\"luxury\",\"nothing\"]\n",
        "print(travellerneed)\n",
        "select=input(\"select ur convinient from list:\")\n",
        "if select==\"speed\":\n",
        "  List1=[\"=400\",\">400<=900\",\">900<=1500\"]\n",
        "  print(List1)\n",
        "  cost=int(input(\"enter between what range of cost:\"))\n",
        "  if cost==100 :\n",
        "    print(\"available buses are\")\n",
        "    List2=[\"RTC\",\"ordinary\",\"vantare platinum plus\"]\n",
        "    for i in List2:\n",
        "      print(i)\n",
        "    print(\"please book ur ticket\")\n",
        "  elif cost>500 and cost<1000 :\n",
        "    print(\"available buses are\")\n",
        "    List2=[\"superbus\",\" rhythm travel \"]\n",
        "    for i in List2:\n",
        "         print(i)\n",
        "         print(\"please book ur ticket\")\n",
        "  elif cost>1000 and cost<=2500:\n",
        "    print(\" available buses are\")\n",
        "    List2=[\"globe Trotter\",\"explorania\"]\n",
        "    for i in List2:\n",
        "      print(i)\n",
        "    print(\"please book ur ticket\")\n",
        "elif select==\"cost\":\n",
        "  List1=[\"=400\",\">400<=900\",\">900<=1500\"]\n",
        "  print(List1)\n",
        "  cost=int(input(\"enter  cost:\"))\n",
        "  if cost==100 :\n",
        "    print(\" available buses are\")\n",
        "    List2=[\"conquest\",\"garuda\",\"ordinary\"]\n",
        "    for i in List2:\n",
        "      print(i)\n",
        "      print(List2)\n",
        "    print(\"please book ur ticket\")\n",
        "  elif cost>500 and cost<1000 :\n",
        "    print(\" available buses are\")\n",
        "    List2=[\"safari\",\"galaxy travels \"]\n",
        "    for i in List2:\n",
        "         print(i)\n",
        "         print(List2)\n",
        "         print(\"please book ur ticket\")\n",
        "  elif cost>1000 and cost<=2500:\n",
        "     print(\" available buses are\")\n",
        "     List2=[\"ac travels\",\"sunrise\"]\n",
        "     for i in List2:\n",
        "      print(i)\n",
        "      print(List2)\n",
        "      print(\"please book ur ticket\")\n",
        "elif select==\"luxury\" :\n",
        "  List2={'sunrise':900, 'Ac': 1000}\n",
        "  for i in List2:\n",
        "    print(i)\n",
        "    print(List2)\n",
        "    print(\"please book ur ticket\")"
      ],
      "metadata": {
        "colab": {
          "base_uri": "https://localhost:8080/"
        },
        "id": "ZcmyBg7dZ4CS",
        "outputId": "427f247b-ce4f-4f4c-c872-ae3b12cdd006"
      },
      "execution_count": 33,
      "outputs": [
        {
          "output_type": "stream",
          "name": "stdout",
          "text": [
            "['speed', 'cost', 'luxury', 'nothing']\n",
            "select ur convinient from list:luxury\n",
            "sunrise\n",
            "{'sunrise': 900, 'Ac': 1000}\n",
            "please book ur ticket\n",
            "Ac\n",
            "{'sunrise': 900, 'Ac': 1000}\n",
            "please book ur ticket\n"
          ]
        }
      ]
    },
    {
      "cell_type": "code",
      "source": [
        ""
      ],
      "metadata": {
        "id": "gZXHZNOOm0I_"
      },
      "execution_count": null,
      "outputs": []
    },
    {
      "cell_type": "code",
      "source": [
        ""
      ],
      "metadata": {
        "id": "pQMD0l0UmakX"
      },
      "execution_count": null,
      "outputs": []
    }
  ]
}